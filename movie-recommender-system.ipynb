{
 "cells": [
  {
   "cell_type": "code",
   "execution_count": 1,
   "id": "dec327b7-4dcd-4379-9592-d4c72822e5a7",
   "metadata": {},
   "outputs": [
    {
     "name": "stdout",
     "output_type": "stream",
     "text": [
      "<class 'pandas.core.frame.DataFrame'>\n",
      "RangeIndex: 10866 entries, 0 to 10865\n",
      "Data columns (total 21 columns):\n",
      " #   Column                Non-Null Count  Dtype  \n",
      "---  ------                --------------  -----  \n",
      " 0   id                    10866 non-null  int64  \n",
      " 1   imdb_id               10856 non-null  object \n",
      " 2   popularity            10866 non-null  float64\n",
      " 3   budget                10866 non-null  int64  \n",
      " 4   revenue               10866 non-null  int64  \n",
      " 5   original_title        10866 non-null  object \n",
      " 6   cast                  10790 non-null  object \n",
      " 7   homepage              2936 non-null   object \n",
      " 8   director              10822 non-null  object \n",
      " 9   tagline               8042 non-null   object \n",
      " 10  keywords              9373 non-null   object \n",
      " 11  overview              10862 non-null  object \n",
      " 12  runtime               10866 non-null  int64  \n",
      " 13  genres                10843 non-null  object \n",
      " 14  production_companies  9836 non-null   object \n",
      " 15  release_date          10866 non-null  object \n",
      " 16  vote_count            10866 non-null  int64  \n",
      " 17  vote_average          10866 non-null  float64\n",
      " 18  release_year          10866 non-null  int64  \n",
      " 19  budget_adj            10866 non-null  float64\n",
      " 20  revenue_adj           10866 non-null  float64\n",
      "dtypes: float64(4), int64(6), object(11)\n",
      "memory usage: 1.7+ MB\n",
      "id\n",
      "original_title\n",
      "overview\n",
      "genres\n",
      "keywords\n",
      "cast\n",
      "director\n",
      "           id                original_title  \\\n",
      "0      135397                Jurassic World   \n",
      "1       76341            Mad Max: Fury Road   \n",
      "2      262500                     Insurgent   \n",
      "3      140607  Star Wars: The Force Awakens   \n",
      "4      168259                     Furious 7   \n",
      "...       ...                           ...   \n",
      "10861      21            The Endless Summer   \n",
      "10862   20379                    Grand Prix   \n",
      "10863   39768           Beregis Avtomobilya   \n",
      "10864   21449        What's Up, Tiger Lily?   \n",
      "10865   22293      Manos: The Hands of Fate   \n",
      "\n",
      "                                                overview  \\\n",
      "0      Twenty-two years after the events of Jurassic ...   \n",
      "1      An apocalyptic story set in the furthest reach...   \n",
      "2      Beatrice Prior must confront her inner demons ...   \n",
      "3      Thirty years after defeating the Galactic Empi...   \n",
      "4      Deckard Shaw seeks revenge against Dominic Tor...   \n",
      "...                                                  ...   \n",
      "10861  The Endless Summer, by Bruce Brown, is one of ...   \n",
      "10862  Grand Prix driver Pete Aron is fired by his te...   \n",
      "10863  An insurance agent who moonlights as a carthie...   \n",
      "10864  In comic Woody Allen's film debut, he took the...   \n",
      "10865  A family gets lost on the road and stumbles up...   \n",
      "\n",
      "                                          genres  \\\n",
      "0      Action|Adventure|Science Fiction|Thriller   \n",
      "1      Action|Adventure|Science Fiction|Thriller   \n",
      "2             Adventure|Science Fiction|Thriller   \n",
      "3       Action|Adventure|Science Fiction|Fantasy   \n",
      "4                          Action|Crime|Thriller   \n",
      "...                                          ...   \n",
      "10861                                Documentary   \n",
      "10862                     Action|Adventure|Drama   \n",
      "10863                             Mystery|Comedy   \n",
      "10864                              Action|Comedy   \n",
      "10865                                     Horror   \n",
      "\n",
      "                                                keywords  \\\n",
      "0      monster|dna|tyrannosaurus rex|velociraptor|island   \n",
      "1       future|chase|post-apocalyptic|dystopia|australia   \n",
      "2      based on novel|revolution|dystopia|sequel|dyst...   \n",
      "3                  android|spaceship|jedi|space opera|3d   \n",
      "4                    car race|speed|revenge|suspense|car   \n",
      "...                                                  ...   \n",
      "10861                           surfer|surfboard|surfing   \n",
      "10862                          car race|racing|formula 1   \n",
      "10863                           car|trolley|stealing car   \n",
      "10864                                              spoof   \n",
      "10865                fire|gun|drive|sacrifice|flashlight   \n",
      "\n",
      "                                                    cast            director  \n",
      "0      Chris Pratt|Bryce Dallas Howard|Irrfan Khan|Vi...     Colin Trevorrow  \n",
      "1      Tom Hardy|Charlize Theron|Hugh Keays-Byrne|Nic...       George Miller  \n",
      "2      Shailene Woodley|Theo James|Kate Winslet|Ansel...    Robert Schwentke  \n",
      "3      Harrison Ford|Mark Hamill|Carrie Fisher|Adam D...         J.J. Abrams  \n",
      "4      Vin Diesel|Paul Walker|Jason Statham|Michelle ...           James Wan  \n",
      "...                                                  ...                 ...  \n",
      "10861  Michael Hynson|Robert August|Lord 'Tally Ho' B...         Bruce Brown  \n",
      "10862  James Garner|Eva Marie Saint|Yves Montand|Tosh...  John Frankenheimer  \n",
      "10863  Innokentiy Smoktunovskiy|Oleg Efremov|Georgi Z...      Eldar Ryazanov  \n",
      "10864  Tatsuya Mihashi|Akiko Wakabayashi|Mie Hama|Joh...         Woody Allen  \n",
      "10865  Harold P. Warren|Tom Neyman|John Reynolds|Dian...    Harold P. Warren  \n",
      "\n",
      "[10866 rows x 7 columns]\n",
      "<class 'pandas.core.frame.DataFrame'>\n"
     ]
    }
   ],
   "source": [
    "import numpy as np\n",
    "import pandas as pd\n",
    "\n",
    "movies = pd.read_csv('tmdb-movies.csv')\n",
    "movies.head()\n",
    "\n",
    "#genres\n",
    "#id\n",
    "#keywords \n",
    "#original title\n",
    "#overview\n",
    "#cast\n",
    "#director\n",
    "movies.info()\n",
    "\n",
    "movies = movies[['id','original_title','overview','genres','keywords','cast','director']]\n",
    "\n",
    "# If movies is a list of strings\n",
    "for movie in movies:\n",
    "    print(movie)  # Each 'movie' here is a string, not a dictionary or DataFrame row\n",
    "\n",
    "\n",
    "# movies['genres'] = movies['genres'].apply(lambda x:[i.replace(\" \",\"\") for i in x])\n",
    "# movies['keywords'] = movies['keywords'].apply(lambda x:[i.replace(\" \",\"\") for i in x])\n",
    "# movies['cast'] = movies['cast'].apply(lambda x:[i.replace(\" \",\"\") for i in x])\n",
    "# movies['director'] = movies['director'].apply(lambda x:[i.replace(\" \",\"\") for i in x])\n",
    "# movies.head()\n",
    "\n",
    "\n",
    "# import pandas as pd\n",
    "# import numpy as np\n",
    "\n",
    "# Example DataFrame structure (if you haven't loaded it already)\n",
    "# movies = pd.DataFrame({\n",
    "#     'genres': [['Action', 'Adventure'], np.nan, ['Comedy'], ['Drama', 'Action']],\n",
    "#     'keywords': [['Hero', 'Fight'], ['Love'], np.nan, ['Family', 'Friendship']],\n",
    "#     'cast': [['Actor1', 'Actor2'], ['Actor3'], ['Actor4'], np.nan]\n",
    "# })\n",
    "\n",
    "# Ensure you handle NaN values while applying the functions\n",
    "movies['genres'] = movies['genres'].apply(lambda x: [i.replace(\" \", \"\") for i in x] if isinstance(x, list) else x)\n",
    "movies['keywords'] = movies['keywords'].apply(lambda x: [i.replace(\" \", \"\") for i in x] if isinstance(x, list) else x)\n",
    "movies['cast'] = movies['cast'].apply(lambda x: [i.replace(\" \", \"\") for i in x] if isinstance(x, list) else x)\n",
    "\n",
    "# Check the results\n",
    "print(movies)\n",
    "\n",
    "\n",
    "\n",
    "import ast\n",
    "\n",
    "# Iterate over each movie (check if it's a dict first)\n",
    "for movie in movies:\n",
    "    if isinstance(movie, dict):  # Only process if it's a dictionary\n",
    "        # Check if 'genres', 'keywords', and 'cast' are strings that need to be converted to lists\n",
    "        if isinstance(movie.get('genres'), str):\n",
    "            movie['genres'] = ast.literal_eval(movie['genres'])  # Convert the string to a list\n",
    "        if isinstance(movie.get('keywords'), str):\n",
    "            movie['keywords'] = ast.literal_eval(movie['keywords'])  # Convert the string to a list\n",
    "        if isinstance(movie.get('cast'), str):\n",
    "            movie['cast'] = ast.literal_eval(movie['cast'])  # Convert the string to a list\n",
    "\n",
    "        # Now remove spaces in the lists\n",
    "        movie['genres'] = [i.replace(\" \", \"\") for i in movie['genres']]\n",
    "        movie['keywords'] = [i.replace(\" \", \"\") for i in movie['keywords']]\n",
    "        movie['cast'] = [i.replace(\" \", \"\") for i in movie['cast']]\n",
    "\n",
    "\n",
    "print(type(movies))"
   ]
  },
  {
   "cell_type": "code",
   "execution_count": 2,
   "id": "1e46823e-3b15-44bc-8350-7d0e7bcfb24d",
   "metadata": {},
   "outputs": [
    {
     "name": "stdout",
     "output_type": "stream",
     "text": [
      "0    twenty-two years after the events of jurassic ...\n",
      "1    an apocalyptic story set in the furthest reach...\n",
      "2    beatrice prior must confront her inner demons ...\n",
      "3    thirty years after defeating the galactic empi...\n",
      "4    deckard shaw seeks revenge against dominic tor...\n",
      "Name: tags, dtype: object\n"
     ]
    },
    {
     "name": "stderr",
     "output_type": "stream",
     "text": [
      "C:\\Users\\Sanjana Malik\\AppData\\Local\\Temp\\ipykernel_18556\\2179460591.py:15: SettingWithCopyWarning: \n",
      "A value is trying to be set on a copy of a slice from a DataFrame.\n",
      "Try using .loc[row_indexer,col_indexer] = value instead\n",
      "\n",
      "See the caveats in the documentation: https://pandas.pydata.org/pandas-docs/stable/user_guide/indexing.html#returning-a-view-versus-a-copy\n",
      "  new_df['tags'] = new_df['tags'].apply(lambda x: x.lower() if isinstance(x, str) else x)\n"
     ]
    },
    {
     "data": {
      "text/html": [
       "<div>\n",
       "<style scoped>\n",
       "    .dataframe tbody tr th:only-of-type {\n",
       "        vertical-align: middle;\n",
       "    }\n",
       "\n",
       "    .dataframe tbody tr th {\n",
       "        vertical-align: top;\n",
       "    }\n",
       "\n",
       "    .dataframe thead th {\n",
       "        text-align: right;\n",
       "    }\n",
       "</style>\n",
       "<table border=\"1\" class=\"dataframe\">\n",
       "  <thead>\n",
       "    <tr style=\"text-align: right;\">\n",
       "      <th></th>\n",
       "      <th>id</th>\n",
       "      <th>original_title</th>\n",
       "      <th>tags</th>\n",
       "    </tr>\n",
       "  </thead>\n",
       "  <tbody>\n",
       "    <tr>\n",
       "      <th>0</th>\n",
       "      <td>135397</td>\n",
       "      <td>Jurassic World</td>\n",
       "      <td>twenty-two years after the events of jurassic ...</td>\n",
       "    </tr>\n",
       "    <tr>\n",
       "      <th>1</th>\n",
       "      <td>76341</td>\n",
       "      <td>Mad Max: Fury Road</td>\n",
       "      <td>an apocalyptic story set in the furthest reach...</td>\n",
       "    </tr>\n",
       "    <tr>\n",
       "      <th>2</th>\n",
       "      <td>262500</td>\n",
       "      <td>Insurgent</td>\n",
       "      <td>beatrice prior must confront her inner demons ...</td>\n",
       "    </tr>\n",
       "    <tr>\n",
       "      <th>3</th>\n",
       "      <td>140607</td>\n",
       "      <td>Star Wars: The Force Awakens</td>\n",
       "      <td>thirty years after defeating the galactic empi...</td>\n",
       "    </tr>\n",
       "    <tr>\n",
       "      <th>4</th>\n",
       "      <td>168259</td>\n",
       "      <td>Furious 7</td>\n",
       "      <td>deckard shaw seeks revenge against dominic tor...</td>\n",
       "    </tr>\n",
       "  </tbody>\n",
       "</table>\n",
       "</div>"
      ],
      "text/plain": [
       "       id                original_title  \\\n",
       "0  135397                Jurassic World   \n",
       "1   76341            Mad Max: Fury Road   \n",
       "2  262500                     Insurgent   \n",
       "3  140607  Star Wars: The Force Awakens   \n",
       "4  168259                     Furious 7   \n",
       "\n",
       "                                                tags  \n",
       "0  twenty-two years after the events of jurassic ...  \n",
       "1  an apocalyptic story set in the furthest reach...  \n",
       "2  beatrice prior must confront her inner demons ...  \n",
       "3  thirty years after defeating the galactic empi...  \n",
       "4  deckard shaw seeks revenge against dominic tor...  "
      ]
     },
     "execution_count": 2,
     "metadata": {},
     "output_type": "execute_result"
    }
   ],
   "source": [
    "# movies['overview'] = movies['overview'].apply(lambda x:x.split())\n",
    "movies['tags'] = movies['overview'] + movies['genres'] + movies['keywords'] + movies['cast'] +movies['director'] \n",
    "\n",
    "movies.head()\n",
    "#movies['cast'].apply(lambda x:[i.replace(\" \",\"\") for i in x])\n",
    "# movies = pd.read_csv('tmdb-movies.csv')\n",
    "\n",
    "new_df = movies[['id','original_title','tags']]\n",
    "new_df\n",
    "new_df.head()\n",
    "new_df['tags'][0]\n",
    "\n",
    "#new_df['tags'] = new_df['tags'].apply(lambda x:x.lower())\n",
    "# Apply lower() method only if x is a string\n",
    "new_df['tags'] = new_df['tags'].apply(lambda x: x.lower() if isinstance(x, str) else x)\n",
    "\n",
    "# Check the results\n",
    "print(new_df['tags'].head())  # Display the first few rows to verify the changes\n",
    "\n",
    "\n",
    "new_df.head()"
   ]
  },
  {
   "cell_type": "code",
   "execution_count": 3,
   "id": "883c911c-5c63-43ef-bec7-0235827f7afc",
   "metadata": {},
   "outputs": [
    {
     "name": "stderr",
     "output_type": "stream",
     "text": [
      "C:\\Users\\Sanjana Malik\\AppData\\Local\\Temp\\ipykernel_18556\\3735368063.py:7: SettingWithCopyWarning: \n",
      "A value is trying to be set on a copy of a slice from a DataFrame.\n",
      "Try using .loc[row_indexer,col_indexer] = value instead\n",
      "\n",
      "See the caveats in the documentation: https://pandas.pydata.org/pandas-docs/stable/user_guide/indexing.html#returning-a-view-versus-a-copy\n",
      "  new_df['tags'] = new_df['tags'].fillna('')\n"
     ]
    },
    {
     "name": "stdout",
     "output_type": "stream",
     "text": [
      "5000\n",
      "(10866, 5000)\n"
     ]
    },
    {
     "data": {
      "text/plain": [
       "5000"
      ]
     },
     "execution_count": 3,
     "metadata": {},
     "output_type": "execute_result"
    }
   ],
   "source": [
    "from sklearn.feature_extraction.text import CountVectorizer\n",
    "cv = CountVectorizer(max_features=5000,stop_words='english')\n",
    "\n",
    "\n",
    "\n",
    "# Fill NaN values with an empty string\n",
    "new_df['tags'] = new_df['tags'].fillna('')\n",
    "\n",
    "# Apply CountVectorizer\n",
    "cv = CountVectorizer(max_features=5000, stop_words='english')\n",
    "vectors = cv.fit_transform(new_df['tags']).toarray()\n",
    "\n",
    "# If you want to see the feature names\n",
    "feature_names = cv.get_feature_names_out()\n",
    "\n",
    "# Output the feature names and vector shape\n",
    "print(len(feature_names))  # Number of unique features\n",
    "print(vectors.shape)       # Shape of the transformed array\n",
    "\n",
    "\n",
    "\n",
    "# # Drop rows with NaN values\n",
    "# new_df = new_df.dropna(subset=['tags'])\n",
    "\n",
    "# # Now apply CountVectorizer\n",
    "# cv = CountVectorizer(max_features=5000, stop_words='english')\n",
    "# X = cv.fit_transform(new_df['tags']).toarray()\n",
    "\n",
    "# # Check the shape of the resulting array\n",
    "# print(X.shape)  # This will give you the shape of the document-term matrix\n",
    "vectors\n",
    "vectors[0]\n",
    "len(cv.get_feature_names_out())"
   ]
  },
  {
   "cell_type": "code",
   "execution_count": 4,
   "id": "7e82a504-860b-4284-98d8-2ad0d720065c",
   "metadata": {
    "scrolled": true
   },
   "outputs": [
    {
     "name": "stderr",
     "output_type": "stream",
     "text": [
      "C:\\Users\\Sanjana Malik\\AppData\\Local\\Temp\\ipykernel_18556\\1702462872.py:19: SettingWithCopyWarning: \n",
      "A value is trying to be set on a copy of a slice from a DataFrame.\n",
      "Try using .loc[row_indexer,col_indexer] = value instead\n",
      "\n",
      "See the caveats in the documentation: https://pandas.pydata.org/pandas-docs/stable/user_guide/indexing.html#returning-a-view-versus-a-copy\n",
      "  new_df['tags'] = new_df['tags'].apply(stem)\n"
     ]
    }
   ],
   "source": [
    "#!pip install nltk\n",
    "import nltk\n",
    "\n",
    "from nltk.stem.porter import PorterStemmer\n",
    "ps = PorterStemmer()\n",
    "\n",
    "def stem(text):\n",
    "    y = []\n",
    "    for i in text.split():\n",
    "        y.append(ps.stem(i))\n",
    "    return \" \".join(y)\n",
    "\n",
    "new_df['tags'][0]\n",
    "\n",
    "stem(\"twenty-two years after the events of jurassic park, isla nublar now features a fully functioning dinosaur theme park, jurassic world, as originally envisioned by john hammond.action|adventure|science fiction|thrillermonster|dna|tyrannosaurus rex|velociraptor|islandchris pratt|bryce dallas howard|irrfan khan|vincent d'onofrio|nick robinsoncolin trevorrow\")\n",
    "\n",
    "\n",
    "\n",
    "new_df['tags'] = new_df['tags'].apply(stem)"
   ]
  },
  {
   "cell_type": "code",
   "execution_count": 17,
   "id": "344780e8-2e30-42fd-980c-afd5d96edb00",
   "metadata": {},
   "outputs": [
    {
     "data": {
      "text/plain": [
       "[(10192, np.float64(0.3930042298310422)),\n",
       " (10223, np.float64(0.329914439536929)),\n",
       " (5391, np.float64(0.31219527052723134)),\n",
       " (7916, np.float64(0.2459549291242073)),\n",
       " (9999, np.float64(0.2333800140046683))]"
      ]
     },
     "execution_count": 17,
     "metadata": {},
     "output_type": "execute_result"
    }
   ],
   "source": [
    "from sklearn.metrics.pairwise import cosine_similarity\n",
    "\n",
    "cosine_similarity(vectors)\n",
    "\n",
    "cosine_similarity(vectors).shape\n",
    "\n",
    "similarity = cosine_similarity(vectors)\n",
    "\n",
    "sorted(list(enumerate(similarity[0])),reverse = True,key = lambda x:x[1])[1:6]"
   ]
  },
  {
   "cell_type": "code",
   "execution_count": 6,
   "id": "36a96875-9ae9-4f1d-9a31-94f3b8fe226c",
   "metadata": {},
   "outputs": [
    {
     "name": "stdout",
     "output_type": "stream",
     "text": [
      "Futureworld\n",
      "Jurassic World\n",
      "Babylon 5: A Call to Arms\n",
      "Angry Video Game Nerd: The Movie\n",
      "Jurassic Park\n"
     ]
    }
   ],
   "source": [
    "def recommend(movie):\n",
    "    movie_index = new_df[new_df['original_title'] == movie].index[0]\n",
    "    distances = similarity[movie_index]\n",
    "    movies_list = sorted(list(enumerate(distances)),reverse = True,key = lambda x:x[1])[1:6]\n",
    "    for i in movies_list:\n",
    "        print(new_df.iloc[i[0]].original_title)\n",
    "# new_df[new_df == 'Avatar'].index\n",
    "recommend('The Last Starfighter')"
   ]
  },
  {
   "cell_type": "code",
   "execution_count": 13,
   "id": "ab8ec2d1-de9a-4699-8b4b-c75ea24d41d5",
   "metadata": {},
   "outputs": [],
   "source": [
    "import pickle"
   ]
  },
  {
   "cell_type": "code",
   "execution_count": 14,
   "id": "3bfc71df-1beb-48e0-a2d4-1e85d4081746",
   "metadata": {},
   "outputs": [],
   "source": [
    "pickle.dump(new_df,open('movies.pkl','wb'))"
   ]
  },
  {
   "cell_type": "code",
   "execution_count": 16,
   "id": "fdb3155f-861f-403d-9e53-68402d7555e9",
   "metadata": {},
   "outputs": [
    {
     "data": {
      "text/plain": [
       "array(['Jurassic World', 'Mad Max: Fury Road', 'Insurgent', ...,\n",
       "       'Beregis Avtomobilya', \"What's Up, Tiger Lily?\",\n",
       "       'Manos: The Hands of Fate'], dtype=object)"
      ]
     },
     "execution_count": 16,
     "metadata": {},
     "output_type": "execute_result"
    }
   ],
   "source": [
    "new_df['original_title'].values"
   ]
  },
  {
   "cell_type": "code",
   "execution_count": 10,
   "id": "ac78069b-0c52-4e43-8697-16567a044399",
   "metadata": {},
   "outputs": [],
   "source": [
    "pickle.dump(new_df.to_dict(),open('movie_dict.pkl','wb'))\n"
   ]
  },
  {
   "cell_type": "code",
   "execution_count": 11,
   "id": "67943cce-bec7-4ef3-9942-9a0e94b9be0b",
   "metadata": {},
   "outputs": [],
   "source": [
    "#new_df.to_dict()\n",
    "\n"
   ]
  },
  {
   "cell_type": "code",
   "execution_count": 12,
   "id": "5cf92401-120c-403d-adab-90082b7155c5",
   "metadata": {},
   "outputs": [
    {
     "name": "stdout",
     "output_type": "stream",
     "text": [
      "Defaulting to user installation because normal site-packages is not writeable\n",
      "Requirement already satisfied: scikit-learn in c:\\users\\sanjana malik\\appdata\\roaming\\python\\python313\\site-packages (1.5.2)\n",
      "Requirement already satisfied: numpy>=1.19.5 in c:\\users\\sanjana malik\\appdata\\roaming\\python\\python313\\site-packages (from scikit-learn) (2.1.2)\n",
      "Requirement already satisfied: scipy>=1.6.0 in c:\\users\\sanjana malik\\appdata\\roaming\\python\\python313\\site-packages (from scikit-learn) (1.14.1)\n",
      "Requirement already satisfied: joblib>=1.2.0 in c:\\users\\sanjana malik\\appdata\\roaming\\python\\python313\\site-packages (from scikit-learn) (1.4.2)\n",
      "Requirement already satisfied: threadpoolctl>=3.1.0 in c:\\users\\sanjana malik\\appdata\\roaming\\python\\python313\\site-packages (from scikit-learn) (3.5.0)\n"
     ]
    }
   ],
   "source": [
    "#!pip install scikit-learn\n",
    "\n"
   ]
  },
  {
   "cell_type": "code",
   "execution_count": 11,
   "id": "98494b1c-d4e5-431f-a152-b7c890fcab62",
   "metadata": {},
   "outputs": [
    {
     "name": "stdout",
     "output_type": "stream",
     "text": [
      "Defaulting to user installation because normal site-packages is not writeable"
     ]
    },
    {
     "name": "stderr",
     "output_type": "stream",
     "text": [
      "  WARNING: The script tqdm.exe is installed in 'C:\\Users\\Sanjana Malik\\AppData\\Roaming\\Python\\Python313\\Scripts' which is not on PATH.\n",
      "  Consider adding this directory to PATH or, if you prefer to suppress this warning, use --no-warn-script-location.\n",
      "  WARNING: The script nltk.exe is installed in 'C:\\Users\\Sanjana Malik\\AppData\\Roaming\\Python\\Python313\\Scripts' which is not on PATH.\n",
      "  Consider adding this directory to PATH or, if you prefer to suppress this warning, use --no-warn-script-location.\n"
     ]
    },
    {
     "name": "stdout",
     "output_type": "stream",
     "text": [
      "\n",
      "Collecting nltk\n",
      "  Downloading nltk-3.9.1-py3-none-any.whl.metadata (2.9 kB)\n",
      "Collecting click (from nltk)\n",
      "  Using cached click-8.1.7-py3-none-any.whl.metadata (3.0 kB)\n",
      "Requirement already satisfied: joblib in c:\\users\\sanjana malik\\appdata\\roaming\\python\\python313\\site-packages (from nltk) (1.4.2)\n",
      "Collecting regex>=2021.8.3 (from nltk)\n",
      "  Downloading regex-2024.9.11-cp313-cp313-win_amd64.whl.metadata (41 kB)\n",
      "Collecting tqdm (from nltk)\n",
      "  Downloading tqdm-4.66.5-py3-none-any.whl.metadata (57 kB)\n",
      "Requirement already satisfied: colorama in c:\\users\\sanjana malik\\appdata\\roaming\\python\\python313\\site-packages (from click->nltk) (0.4.6)\n",
      "Downloading nltk-3.9.1-py3-none-any.whl (1.5 MB)\n",
      "   ---------------------------------------- 0.0/1.5 MB ? eta -:--:--\n",
      "   -------------------- ------------------- 0.8/1.5 MB 4.9 MB/s eta 0:00:01\n",
      "   ---------------------------------------- 1.5/1.5 MB 4.6 MB/s eta 0:00:00\n",
      "Downloading regex-2024.9.11-cp313-cp313-win_amd64.whl (273 kB)\n",
      "Using cached click-8.1.7-py3-none-any.whl (97 kB)\n",
      "Downloading tqdm-4.66.5-py3-none-any.whl (78 kB)\n",
      "Installing collected packages: tqdm, regex, click, nltk\n",
      "Successfully installed click-8.1.7 nltk-3.9.1 regex-2024.9.11 tqdm-4.66.5\n"
     ]
    }
   ],
   "source": [
    "#!pip install nltk\n"
   ]
  },
  {
   "cell_type": "code",
   "execution_count": 5,
   "id": "6ad69a75-fc59-4da4-bfe9-a1ba050288e6",
   "metadata": {},
   "outputs": [
    {
     "name": "stdout",
     "output_type": "stream",
     "text": [
      "Defaulting to user installation because normal site-packages is not writeable\n",
      "Requirement already satisfied: nltk in c:\\users\\sanjana malik\\appdata\\roaming\\python\\python313\\site-packages (3.9.1)\n",
      "Requirement already satisfied: click in c:\\users\\sanjana malik\\appdata\\roaming\\python\\python313\\site-packages (from nltk) (8.1.7)\n",
      "Requirement already satisfied: joblib in c:\\users\\sanjana malik\\appdata\\roaming\\python\\python313\\site-packages (from nltk) (1.4.2)\n",
      "Requirement already satisfied: regex>=2021.8.3 in c:\\users\\sanjana malik\\appdata\\roaming\\python\\python313\\site-packages (from nltk) (2024.9.11)\n",
      "Requirement already satisfied: tqdm in c:\\users\\sanjana malik\\appdata\\roaming\\python\\python313\\site-packages (from nltk) (4.66.5)\n",
      "Requirement already satisfied: colorama in c:\\users\\sanjana malik\\appdata\\roaming\\python\\python313\\site-packages (from click->nltk) (0.4.6)\n"
     ]
    }
   ],
   "source": [
    "!pip install nltk\n"
   ]
  },
  {
   "cell_type": "code",
   "execution_count": 6,
   "id": "15f008b4-a669-419e-ab42-ab396a353027",
   "metadata": {},
   "outputs": [
    {
     "name": "stdout",
     "output_type": "stream",
     "text": [
      "C:\\Users\\Sanjana Malik\\AppData\\Local\\Programs\\Python\\Python312\\python.exe\n"
     ]
    }
   ],
   "source": [
    "import sys\n",
    "print(sys.executable)\n"
   ]
  },
  {
   "cell_type": "code",
   "execution_count": 19,
   "id": "1f2e7143-8720-4efd-ba3c-ff680ece9e6f",
   "metadata": {},
   "outputs": [
    {
     "name": "stdout",
     "output_type": "stream",
     "text": [
      "(10866, 10866)\n",
      "      0         1         2         3         4         5         6      \\\n",
      "0  0.872959  0.721943  0.433537  0.591575  0.696800  0.531308  0.251115   \n",
      "1  0.555218  0.626112  0.944985  0.512652  0.460584  0.939765  0.080774   \n",
      "2  0.598987  0.237695  0.140865  0.486044  0.032039  0.274657  0.069982   \n",
      "3  0.336561  0.865102  0.168924  0.819991  0.429213  0.846472  0.203601   \n",
      "4  0.201819  0.126512  0.576563  0.421177  0.713623  0.209338  0.919551   \n",
      "\n",
      "      7         8         9      ...     10856     10857     10858     10859  \\\n",
      "0  0.763653  0.816019  0.222354  ...  0.307295  0.939386  0.245613  0.008506   \n",
      "1  0.703822  0.256405  0.130141  ...  0.459021  0.144393  0.229210  0.857775   \n",
      "2  0.967196  0.442129  0.904955  ...  0.866333  0.692924  0.455780  0.312670   \n",
      "3  0.799451  0.438476  0.691507  ...  0.347062  0.141866  0.425174  0.349983   \n",
      "4  0.615178  0.515244  0.107858  ...  0.260965  0.952892  0.192337  0.186820   \n",
      "\n",
      "      10860     10861     10862     10863     10864     10865  \n",
      "0  0.961879  0.896712  0.180959  0.995994  0.519301  0.236449  \n",
      "1  0.779011  0.323751  0.034289  0.447510  0.913007  0.044081  \n",
      "2  0.196585  0.886582  0.887141  0.252217  0.017156  0.281052  \n",
      "3  0.390546  0.877234  0.450538  0.811217  0.881933  0.111776  \n",
      "4  0.448380  0.868219  0.979190  0.719279  0.160097  0.581909  \n",
      "\n",
      "[5 rows x 10866 columns]\n"
     ]
    }
   ],
   "source": [
    "import pandas as pd\n",
    "import numpy as np\n",
    "\n",
    "# Example similarity matrix as a NumPy array\n",
    "similarity = np.random.rand(10866, 10866)  # Example: 4806x4806 similarity matrix\n",
    "\n",
    "# Convert to DataFrame\n",
    "similarity_df = pd.DataFrame(similarity)\n",
    "\n",
    "# Reset the index (if needed)\n",
    "similarity_df.reset_index(drop=True, inplace=True)\n",
    "\n",
    "# Check the new shape and index\n",
    "print(similarity_df.shape)\n",
    "print(similarity_df.head())\n"
   ]
  },
  {
   "cell_type": "code",
   "execution_count": 20,
   "id": "a93dc5e1-d85b-4b40-9edc-dbe9b9a224b9",
   "metadata": {},
   "outputs": [],
   "source": [
    "pickle.dump(similarity,open('similarity.pkl','wb'))"
   ]
  },
  {
   "cell_type": "code",
   "execution_count": null,
   "id": "ca7d418e-985b-4797-9748-b704ff9f838b",
   "metadata": {},
   "outputs": [],
   "source": []
  },
  {
   "cell_type": "code",
   "execution_count": null,
   "id": "cfaae886-39e3-4778-b21f-1f6e995cecd6",
   "metadata": {},
   "outputs": [],
   "source": []
  }
 ],
 "metadata": {
  "kernelspec": {
   "display_name": "Python 3 (ipykernel)",
   "language": "python",
   "name": "python3"
  },
  "language_info": {
   "codemirror_mode": {
    "name": "ipython",
    "version": 3
   },
   "file_extension": ".py",
   "mimetype": "text/x-python",
   "name": "python",
   "nbconvert_exporter": "python",
   "pygments_lexer": "ipython3",
   "version": "3.12.5"
  }
 },
 "nbformat": 4,
 "nbformat_minor": 5
}
